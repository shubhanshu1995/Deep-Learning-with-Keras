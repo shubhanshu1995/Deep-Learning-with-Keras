{
  "nbformat": 4,
  "nbformat_minor": 0,
  "metadata": {
    "colab": {
      "name": "Getting_Started_with_Keras - Simple ANN.ipynb",
      "provenance": [],
      "collapsed_sections": [],
      "include_colab_link": true
    },
    "kernelspec": {
      "name": "python3",
      "display_name": "Python 3"
    },
    "accelerator": "GPU"
  },
  "cells": [
    {
      "cell_type": "markdown",
      "metadata": {
        "id": "view-in-github",
        "colab_type": "text"
      },
      "source": [
        "<a href=\"https://colab.research.google.com/github/shubhanshu1995/Deep-Learning-with-Keras/blob/master/Getting_Started_with_Keras_Simple_ANN.ipynb\" target=\"_parent\"><img src=\"https://colab.research.google.com/assets/colab-badge.svg\" alt=\"Open In Colab\"/></a>"
      ]
    },
    {
      "cell_type": "markdown",
      "metadata": {
        "id": "E0J0ZI2RJZY9",
        "colab_type": "text"
      },
      "source": [
        "# **Creating Artificial Neural Network with Keras - The Python Deep Learning library**\n"
      ]
    },
    {
      "cell_type": "code",
      "metadata": {
        "id": "sxz4cDGdJnex",
        "colab_type": "code",
        "colab": {}
      },
      "source": [
        "import numpy as np\n",
        "from random import randint\n",
        "from sklearn.preprocessing import MinMaxScaler"
      ],
      "execution_count": 0,
      "outputs": []
    },
    {
      "cell_type": "code",
      "metadata": {
        "id": "wHcKJeseJ4ld",
        "colab_type": "code",
        "colab": {}
      },
      "source": [
        "train_labels = []\n",
        "train_samples = []"
      ],
      "execution_count": 0,
      "outputs": []
    },
    {
      "cell_type": "markdown",
      "metadata": {
        "id": "kxzKqRoTKDoV",
        "colab_type": "text"
      },
      "source": [
        "## Example data:\n",
        "\n",
        "\n",
        "*   An experimental drug was tested on individuals from ages 13 to 100.   \n",
        "*   The trial had 2100 participants. Half were under 65 years old, half were over 65 years old.\n",
        "\n",
        "*   95% of patients 65 or older experienced side effects.\n",
        "*   95% of patients under 65 experienced no side effects.\n",
        "\n",
        "\n",
        "\n"
      ]
    },
    {
      "cell_type": "code",
      "metadata": {
        "id": "Nl7hlCeUKBtM",
        "colab_type": "code",
        "colab": {}
      },
      "source": [
        "for i in range(50):\n",
        "  #The 5% of younger individuals who did experience side effects\n",
        "  random_younger = randint(13,64)\n",
        "  train_samples.append(random_younger)\n",
        "  train_labels.append(1)\n",
        "  \n",
        "  #The 5% of older individuals who didn't experience side effects\n",
        "  random_older = randint(65,100)\n",
        "  train_samples.append(random_older)\n",
        "  train_labels.append(0)\n",
        "  \n",
        "  \n",
        "for i in range(1000):\n",
        "  #The 95% of younger individuals who did not experience side effects\n",
        "  random_younger = randint(13,64)\n",
        "  train_samples.append(random_younger)\n",
        "  train_labels.append(0)\n",
        "  \n",
        "  #The 95% of older individuals who did experience side effects\n",
        "  random_older = randint(65,100)\n",
        "  train_samples.append(random_older)\n",
        "  train_labels.append(1)"
      ],
      "execution_count": 0,
      "outputs": []
    },
    {
      "cell_type": "code",
      "metadata": {
        "id": "iMQusNk0XZ_n",
        "colab_type": "code",
        "outputId": "bcf9f082-1c2d-4180-d88c-47243d0e250e",
        "colab": {
          "base_uri": "https://localhost:8080/",
          "height": 204
        }
      },
      "source": [
        "#print raw data\n",
        "for i in range(11):\n",
        "  print(train_samples[i])"
      ],
      "execution_count": 51,
      "outputs": [
        {
          "output_type": "stream",
          "text": [
            "61\n",
            "66\n",
            "30\n",
            "92\n",
            "19\n",
            "73\n",
            "47\n",
            "94\n",
            "27\n",
            "80\n",
            "52\n"
          ],
          "name": "stdout"
        }
      ]
    },
    {
      "cell_type": "code",
      "metadata": {
        "id": "qeJikn9nXj_c",
        "colab_type": "code",
        "outputId": "985287ff-3fd7-4d07-de99-5e5825986511",
        "colab": {
          "base_uri": "https://localhost:8080/",
          "height": 34
        }
      },
      "source": [
        "len(train_samples)"
      ],
      "execution_count": 52,
      "outputs": [
        {
          "output_type": "execute_result",
          "data": {
            "text/plain": [
              "2100"
            ]
          },
          "metadata": {
            "tags": []
          },
          "execution_count": 52
        }
      ]
    },
    {
      "cell_type": "code",
      "metadata": {
        "id": "YlBBu3MTXxIW",
        "colab_type": "code",
        "outputId": "9d332551-ddb2-47c2-a4d7-1407b7fc7376",
        "colab": {
          "base_uri": "https://localhost:8080/",
          "height": 204
        }
      },
      "source": [
        "for i in range(11):\n",
        "  print(train_labels[i])"
      ],
      "execution_count": 53,
      "outputs": [
        {
          "output_type": "stream",
          "text": [
            "1\n",
            "0\n",
            "1\n",
            "0\n",
            "1\n",
            "0\n",
            "1\n",
            "0\n",
            "1\n",
            "0\n",
            "1\n"
          ],
          "name": "stdout"
        }
      ]
    },
    {
      "cell_type": "code",
      "metadata": {
        "id": "NEnGy_LSZfzh",
        "colab_type": "code",
        "colab": {}
      },
      "source": [
        "train_labels = np.array(train_labels)\n",
        "train_samples = np.array(train_samples)"
      ],
      "execution_count": 0,
      "outputs": []
    },
    {
      "cell_type": "code",
      "metadata": {
        "id": "X7Rq5fxoZ3J5",
        "colab_type": "code",
        "outputId": "39ca0400-41c3-4c8e-8373-a99fea0d9f7f",
        "colab": {
          "base_uri": "https://localhost:8080/",
          "height": 34
        }
      },
      "source": [
        "train_samples.shape"
      ],
      "execution_count": 55,
      "outputs": [
        {
          "output_type": "execute_result",
          "data": {
            "text/plain": [
              "(2100,)"
            ]
          },
          "metadata": {
            "tags": []
          },
          "execution_count": 55
        }
      ]
    },
    {
      "cell_type": "code",
      "metadata": {
        "id": "7FtSCaPpZ5z1",
        "colab_type": "code",
        "colab": {}
      },
      "source": [
        "scaler = MinMaxScaler(feature_range=(0,1))\n",
        "scaled_train_samples = scaler.fit_transform((train_samples).reshape(-1,1))"
      ],
      "execution_count": 0,
      "outputs": []
    },
    {
      "cell_type": "code",
      "metadata": {
        "id": "RHSZENrEcgrp",
        "colab_type": "code",
        "outputId": "8ce2ee4f-37ff-48e6-cdc1-565b00fe8c5b",
        "colab": {
          "base_uri": "https://localhost:8080/",
          "height": 34
        }
      },
      "source": [
        "scaled_train_samples.shape"
      ],
      "execution_count": 57,
      "outputs": [
        {
          "output_type": "execute_result",
          "data": {
            "text/plain": [
              "(2100, 1)"
            ]
          },
          "metadata": {
            "tags": []
          },
          "execution_count": 57
        }
      ]
    },
    {
      "cell_type": "code",
      "metadata": {
        "id": "Y-EREJ2gcm93",
        "colab_type": "code",
        "outputId": "31be9506-c915-489f-b5a2-74dc35b5884b",
        "colab": {
          "base_uri": "https://localhost:8080/",
          "height": 204
        }
      },
      "source": [
        "#print scaled data\n",
        "for i in range(11):\n",
        "  print(scaled_train_samples[i])"
      ],
      "execution_count": 58,
      "outputs": [
        {
          "output_type": "stream",
          "text": [
            "[0.55172414]\n",
            "[0.6091954]\n",
            "[0.1954023]\n",
            "[0.90804598]\n",
            "[0.06896552]\n",
            "[0.68965517]\n",
            "[0.3908046]\n",
            "[0.93103448]\n",
            "[0.16091954]\n",
            "[0.77011494]\n",
            "[0.44827586]\n"
          ],
          "name": "stdout"
        }
      ]
    },
    {
      "cell_type": "code",
      "metadata": {
        "id": "jL7z9InZczLw",
        "colab_type": "code",
        "colab": {}
      },
      "source": [
        "import keras\n",
        "from keras.models import Sequential\n",
        "from keras.layers import Activation\n",
        "from keras.layers.core import Dense\n",
        "from keras.optimizers import Adam\n",
        "from keras.metrics import categorical_crossentropy"
      ],
      "execution_count": 0,
      "outputs": []
    },
    {
      "cell_type": "markdown",
      "metadata": {
        "id": "-gz_zWIbpgHK",
        "colab_type": "text"
      },
      "source": [
        "#Keras sequential model is the linear stack of layers\n",
        "###`model = Sequential([layer1,layer2,layer3]) `\n",
        "##or\n",
        "###`model.add(layer1)`\n",
        "\n",
        "###`model.add(layer2)`\n",
        "\n",
        "###`model.add(layer3)`"
      ]
    },
    {
      "cell_type": "code",
      "metadata": {
        "id": "Vte_Z8MMpX0D",
        "colab_type": "code",
        "colab": {}
      },
      "source": [
        "model = Sequential([\n",
        "    Dense(16,input_shape=(1,),activation='relu'),\n",
        "    Dense(32,activation='relu'),\n",
        "    Dense(2,activation='softmax')\n",
        "])"
      ],
      "execution_count": 0,
      "outputs": []
    },
    {
      "cell_type": "code",
      "metadata": {
        "id": "SM5Zy8Dhpmyn",
        "colab_type": "code",
        "outputId": "e9f308ce-b9d0-4992-8998-1edbd2decd84",
        "colab": {
          "base_uri": "https://localhost:8080/",
          "height": 255
        }
      },
      "source": [
        "model.summary()"
      ],
      "execution_count": 61,
      "outputs": [
        {
          "output_type": "stream",
          "text": [
            "Model: \"sequential_3\"\n",
            "_________________________________________________________________\n",
            "Layer (type)                 Output Shape              Param #   \n",
            "=================================================================\n",
            "dense_7 (Dense)              (None, 16)                32        \n",
            "_________________________________________________________________\n",
            "dense_8 (Dense)              (None, 32)                544       \n",
            "_________________________________________________________________\n",
            "dense_9 (Dense)              (None, 2)                 66        \n",
            "=================================================================\n",
            "Total params: 642\n",
            "Trainable params: 642\n",
            "Non-trainable params: 0\n",
            "_________________________________________________________________\n"
          ],
          "name": "stdout"
        }
      ]
    },
    {
      "cell_type": "code",
      "metadata": {
        "id": "bjULfoieppQt",
        "colab_type": "code",
        "colab": {}
      },
      "source": [
        "model.compile(Adam(lr=.0001),loss='sparse_categorical_crossentropy',metrics=['accuracy'])"
      ],
      "execution_count": 0,
      "outputs": []
    },
    {
      "cell_type": "markdown",
      "metadata": {
        "id": "xyjZ_1PpnMMs",
        "colab_type": "text"
      },
      "source": [
        "# **Validation set**\n",
        "\n",
        "*  validation_set = [(samples,labels),(samples,labels),...............,(samples,labels)]\n",
        "* Shuffle is not applicable for validation set\n",
        "\n",
        "*   The validation_split parameter takes the last x% of the data in the training set (10% in our example), and doesn't shuffle it. With the way I had the for-loops organized originally, the validation split would completely capture all of the data in the second for loop, which was the 5% of younger individuals who did experience side effects and the 5% of older individuals who did not experience side effects. Therefore, none of the data in the second for-loop would be captured in the training set.\n",
        "*   With the re-ordering of the for-loops, the training set is made up of the data that is now generated in both for-loops. With this explanation, check out the code that does this again, and let me know if things are more clear now.\n",
        "\n",
        "\n",
        "\n",
        "\n",
        "*   Another approach we could have taken is, after generating all the data with both for-loops (regardless of which order the loops are in), we could shuffle all the data completely, and then pass that shuffled data to our model. With shuffled data, the training set and validation sets would be a more accurate depiction of the true underlying data since there would be no real ordering to it. As long as your data in the real world is shuffled before you pass it to your model, you shouldn't experience this problem.\n",
        "\n"
      ]
    },
    {
      "cell_type": "code",
      "metadata": {
        "id": "Vdrms-NJpsMa",
        "colab_type": "code",
        "outputId": "286d13bf-a175-485e-d2b9-095b49f2e768",
        "colab": {
          "base_uri": "https://localhost:8080/",
          "height": 731
        }
      },
      "source": [
        "model.fit(scaled_train_samples, train_labels, validation_split = 0.1, batch_size=10,epochs=20, shuffle=True, verbose=2)"
      ],
      "execution_count": 63,
      "outputs": [
        {
          "output_type": "stream",
          "text": [
            "Train on 1890 samples, validate on 210 samples\n",
            "Epoch 1/20\n",
            " - 1s - loss: 0.6903 - acc: 0.4889 - val_loss: 0.6809 - val_acc: 0.5143\n",
            "Epoch 2/20\n",
            " - 1s - loss: 0.6739 - acc: 0.5392 - val_loss: 0.6635 - val_acc: 0.5524\n",
            "Epoch 3/20\n",
            " - 1s - loss: 0.6575 - acc: 0.5720 - val_loss: 0.6448 - val_acc: 0.5952\n",
            "Epoch 4/20\n",
            " - 1s - loss: 0.6398 - acc: 0.6122 - val_loss: 0.6249 - val_acc: 0.6238\n",
            "Epoch 5/20\n",
            " - 1s - loss: 0.6222 - acc: 0.6423 - val_loss: 0.6049 - val_acc: 0.6571\n",
            "Epoch 6/20\n",
            " - 1s - loss: 0.6036 - acc: 0.6704 - val_loss: 0.5837 - val_acc: 0.7000\n",
            "Epoch 7/20\n",
            " - 1s - loss: 0.5855 - acc: 0.6862 - val_loss: 0.5632 - val_acc: 0.7190\n",
            "Epoch 8/20\n",
            " - 1s - loss: 0.5679 - acc: 0.7153 - val_loss: 0.5430 - val_acc: 0.7381\n",
            "Epoch 9/20\n",
            " - 1s - loss: 0.5506 - acc: 0.7413 - val_loss: 0.5228 - val_acc: 0.7619\n",
            "Epoch 10/20\n",
            " - 1s - loss: 0.5337 - acc: 0.7614 - val_loss: 0.5035 - val_acc: 0.7952\n",
            "Epoch 11/20\n",
            " - 1s - loss: 0.5169 - acc: 0.7868 - val_loss: 0.4838 - val_acc: 0.8190\n",
            "Epoch 12/20\n",
            " - 1s - loss: 0.4986 - acc: 0.8079 - val_loss: 0.4600 - val_acc: 0.8381\n",
            "Epoch 13/20\n",
            " - 1s - loss: 0.4752 - acc: 0.8296 - val_loss: 0.4323 - val_acc: 0.8619\n",
            "Epoch 14/20\n",
            " - 1s - loss: 0.4550 - acc: 0.8450 - val_loss: 0.4098 - val_acc: 0.8952\n",
            "Epoch 15/20\n",
            " - 1s - loss: 0.4370 - acc: 0.8561 - val_loss: 0.3887 - val_acc: 0.9048\n",
            "Epoch 16/20\n",
            " - 1s - loss: 0.4190 - acc: 0.8656 - val_loss: 0.3666 - val_acc: 0.9048\n",
            "Epoch 17/20\n",
            " - 1s - loss: 0.4021 - acc: 0.8804 - val_loss: 0.3465 - val_acc: 0.9190\n",
            "Epoch 18/20\n",
            " - 1s - loss: 0.3869 - acc: 0.8899 - val_loss: 0.3274 - val_acc: 0.9333\n",
            "Epoch 19/20\n",
            " - 1s - loss: 0.3730 - acc: 0.8947 - val_loss: 0.3101 - val_acc: 0.9429\n",
            "Epoch 20/20\n",
            " - 1s - loss: 0.3604 - acc: 0.8979 - val_loss: 0.2948 - val_acc: 0.9524\n"
          ],
          "name": "stdout"
        },
        {
          "output_type": "execute_result",
          "data": {
            "text/plain": [
              "<keras.callbacks.History at 0x7f16524e4860>"
            ]
          },
          "metadata": {
            "tags": []
          },
          "execution_count": 63
        }
      ]
    },
    {
      "cell_type": "markdown",
      "metadata": {
        "id": "_0O_JWlPD7FN",
        "colab_type": "text"
      },
      "source": [
        "# **Preprocessing Test Data**"
      ]
    },
    {
      "cell_type": "code",
      "metadata": {
        "id": "M0TJwVC0q3V2",
        "colab_type": "code",
        "colab": {}
      },
      "source": [
        "test_labels = []\n",
        "test_samples = []"
      ],
      "execution_count": 0,
      "outputs": []
    },
    {
      "cell_type": "code",
      "metadata": {
        "id": "tYmAZnaOEvEG",
        "colab_type": "code",
        "colab": {}
      },
      "source": [
        "for i in range(10):\n",
        "  #The 5% of younger individuals who did experience side effects\n",
        "  random_younger = randint(13,64)\n",
        "  test_samples.append(random_younger)\n",
        "  test_labels.append(1)\n",
        "  \n",
        "  #The 5% of older individuals who didn't experience side effects\n",
        "  random_older = randint(65,100)\n",
        "  test_samples.append(random_older)\n",
        "  test_labels.append(0)\n",
        "  \n",
        "  \n",
        "for i in range(200):\n",
        "  #The 95% of younger individuals who did not experience side effects\n",
        "  random_younger = randint(13,64)\n",
        "  test_samples.append(random_younger)\n",
        "  test_labels.append(0)\n",
        "  \n",
        "  #The 95% of older individuals who did experience side effects\n",
        "  random_older = randint(65,100)\n",
        "  test_samples.append(random_older)\n",
        "  test_labels.append(1)"
      ],
      "execution_count": 0,
      "outputs": []
    },
    {
      "cell_type": "code",
      "metadata": {
        "id": "_TbJSfJZHYHI",
        "colab_type": "code",
        "colab": {}
      },
      "source": [
        "test_labels = np.array(test_labels)\n",
        "test_samples = np.array(test_samples)"
      ],
      "execution_count": 0,
      "outputs": []
    },
    {
      "cell_type": "code",
      "metadata": {
        "id": "j7VOVm6MHoBy",
        "colab_type": "code",
        "outputId": "d9c050bc-945e-402d-8f76-121f3dcfbf46",
        "colab": {
          "base_uri": "https://localhost:8080/",
          "height": 34
        }
      },
      "source": [
        "test_samples.shape"
      ],
      "execution_count": 67,
      "outputs": [
        {
          "output_type": "execute_result",
          "data": {
            "text/plain": [
              "(420,)"
            ]
          },
          "metadata": {
            "tags": []
          },
          "execution_count": 67
        }
      ]
    },
    {
      "cell_type": "code",
      "metadata": {
        "id": "9-pmipwIH7XH",
        "colab_type": "code",
        "colab": {}
      },
      "source": [
        "scaled_test_samples = scaler.fit_transform((test_samples).reshape(-1,1))"
      ],
      "execution_count": 0,
      "outputs": []
    },
    {
      "cell_type": "code",
      "metadata": {
        "id": "3_602FdaILvp",
        "colab_type": "code",
        "outputId": "d76429bf-bb50-463c-bc42-ef4a4ec0b01e",
        "colab": {
          "base_uri": "https://localhost:8080/",
          "height": 34
        }
      },
      "source": [
        "scaled_test_samples.shape"
      ],
      "execution_count": 69,
      "outputs": [
        {
          "output_type": "execute_result",
          "data": {
            "text/plain": [
              "(420, 1)"
            ]
          },
          "metadata": {
            "tags": []
          },
          "execution_count": 69
        }
      ]
    },
    {
      "cell_type": "markdown",
      "metadata": {
        "id": "EV4NttNvKSHJ",
        "colab_type": "text"
      },
      "source": [
        "# **Predict**"
      ]
    },
    {
      "cell_type": "code",
      "metadata": {
        "id": "eQqbRFStIQTr",
        "colab_type": "code",
        "colab": {}
      },
      "source": [
        "predictions = model.predict(scaled_test_samples, batch_size=10, verbose=0)"
      ],
      "execution_count": 0,
      "outputs": []
    },
    {
      "cell_type": "code",
      "metadata": {
        "id": "dAZtX-dxIolT",
        "colab_type": "code",
        "colab": {
          "base_uri": "https://localhost:8080/",
          "height": 204
        },
        "outputId": "c4766601-25a3-4eea-c8bb-0cb28c9f471d"
      },
      "source": [
        "for i in range(11):\n",
        "  print(predictions[i])"
      ],
      "execution_count": 71,
      "outputs": [
        {
          "output_type": "stream",
          "text": [
            "[0.7882464  0.21175356]\n",
            "[0.06701652 0.93298346]\n",
            "[0.7877697  0.21223032]\n",
            "[0.28164363 0.7183564 ]\n",
            "[0.7889383  0.21106172]\n",
            "[0.14930409 0.8506959 ]\n",
            "[0.48512712 0.51487285]\n",
            "[0.16883112 0.83116883]\n",
            "[0.7877697  0.21223032]\n",
            "[0.10169999 0.89830005]\n",
            "[0.7877697  0.21223032]\n"
          ],
          "name": "stdout"
        }
      ]
    },
    {
      "cell_type": "code",
      "metadata": {
        "id": "fCITdjY1LZzM",
        "colab_type": "code",
        "colab": {}
      },
      "source": [
        "rounded_predictions = model.predict_classes(scaled_test_samples,batch_size=10,verbose=0)"
      ],
      "execution_count": 0,
      "outputs": []
    },
    {
      "cell_type": "code",
      "metadata": {
        "id": "gmPuFXcJLx_E",
        "colab_type": "code",
        "colab": {
          "base_uri": "https://localhost:8080/",
          "height": 204
        },
        "outputId": "cea93899-1f48-471a-85d9-a8d5c5f9de6a"
      },
      "source": [
        "for i in range(11):\n",
        "  print(rounded_predictions[i])"
      ],
      "execution_count": 73,
      "outputs": [
        {
          "output_type": "stream",
          "text": [
            "0\n",
            "1\n",
            "0\n",
            "1\n",
            "0\n",
            "1\n",
            "1\n",
            "1\n",
            "0\n",
            "1\n",
            "0\n"
          ],
          "name": "stdout"
        }
      ]
    },
    {
      "cell_type": "markdown",
      "metadata": {
        "id": "YTrEaZVJMkoB",
        "colab_type": "text"
      },
      "source": [
        "#**Create confusion matrix for predictions from Keras model**"
      ]
    },
    {
      "cell_type": "code",
      "metadata": {
        "id": "FdDg5RKEL25H",
        "colab_type": "code",
        "colab": {}
      },
      "source": [
        "%matplotlib inline\n",
        "from sklearn.metrics import confusion_matrix\n",
        "import itertools\n",
        "import matplotlib.pyplot as plt"
      ],
      "execution_count": 0,
      "outputs": []
    },
    {
      "cell_type": "code",
      "metadata": {
        "id": "PTfB0ggYNnmD",
        "colab_type": "code",
        "colab": {}
      },
      "source": [
        "cm = confusion_matrix(test_labels, rounded_predictions)"
      ],
      "execution_count": 0,
      "outputs": []
    },
    {
      "cell_type": "code",
      "metadata": {
        "id": "LCJ30HF2N0At",
        "colab_type": "code",
        "colab": {}
      },
      "source": [
        "def plot_confusion_matrix(cm, classes,\n",
        "                         normalize=False,\n",
        "                         title='Confusion matrix',\n",
        "                         cmap=plt.cm.Blues):\n",
        "  \"\"\"\n",
        "    This function prints and plotes confusion matrix.\n",
        "    Normalization can be applied by setting `normalize=True`.\n",
        "  \"\"\"\n",
        "  plt.imshow(cm,interpolation='nearest',cmap=cmap)\n",
        "  plt.title(title)\n",
        "  plt.colorbar()\n",
        "  tick_marks = np.arange(len(classes))\n",
        "  plt.xticks(tick_marks, classes, rotation=45)\n",
        "  plt.yticks(tick_marks, classes)\n",
        "  \n",
        "  if normalize:\n",
        "    cm = cm.astype('float') / cm.sum(axis=1)[:,np.newaxis]\n",
        "    print(\"Normalized confusion matrix\")\n",
        "  else:\n",
        "    print(\"Confusion matrix, without normalization\")\n",
        "   \n",
        "  print(cm)\n",
        "  \n",
        "  thresh = cm.max() / 2.\n",
        "  for i,j in itertools.product(range(cm.shape[0]), range(cm.shape[1])):\n",
        "    plt.text(j, i, cm[i, j],\n",
        "            horizontalalignment=\"center\",\n",
        "            color=\"white\" if cm[i,j] > thresh else \"black\")\n",
        "    \n",
        "    plt.tight_layout()\n",
        "    plt.ylabel('True label')\n",
        "    plt.xlabel('Predicted label')"
      ],
      "execution_count": 0,
      "outputs": []
    },
    {
      "cell_type": "code",
      "metadata": {
        "id": "tJVGc5YkTE-3",
        "colab_type": "code",
        "outputId": "920c8ea8-1561-4bf7-b3f0-32952d8c2953",
        "colab": {
          "base_uri": "https://localhost:8080/",
          "height": 348
        }
      },
      "source": [
        "cm_plot_labels = ['no_side_effects','had_side_effects']\n",
        "plot_confusion_matrix(cm, cm_plot_labels, title='Confusion Matrix')"
      ],
      "execution_count": 77,
      "outputs": [
        {
          "output_type": "stream",
          "text": [
            "Confusion matrix, without normalization\n",
            "[[178  32]\n",
            " [  9 201]]\n"
          ],
          "name": "stdout"
        },
        {
          "output_type": "display_data",
          "data": {
            "image/png": "[encoded data removed]",
            "text/plain": [
              "<Figure size 432x288 with 2 Axes>"
            ]
          },
          "metadata": {
            "tags": []
          }
        }
      ]
    },
    {
      "cell_type": "markdown",
      "metadata": {
        "id": "9nlDOnpIUisJ",
        "colab_type": "text"
      },
      "source": [
        "# **Save and load a Keras model**"
      ]
    },
    {
      "cell_type": "markdown",
      "metadata": {
        "id": "H3mOE2qDW0hw",
        "colab_type": "text"
      },
      "source": [
        "## The save function saves:\n",
        "\n",
        "\n",
        "*   The architecture of the model, allowing to re-create the model.\n",
        "*   The weights of the model.\n",
        "\n",
        "*   The training configuration (loss, optimizer)\n",
        "*   The state of the optimizer, allowing to resume training exactle where you left off.\n",
        "\n",
        "\n",
        "\n"
      ]
    },
    {
      "cell_type": "markdown",
      "metadata": {
        "id": "Iq-WuPQhVt65",
        "colab_type": "text"
      },
      "source": [
        "## **1. model.save()**"
      ]
    },
    {
      "cell_type": "code",
      "metadata": {
        "id": "11BswxzLTe_0",
        "colab_type": "code",
        "colab": {}
      },
      "source": [
        "model.save('medical_trial_model.h5')"
      ],
      "execution_count": 0,
      "outputs": []
    },
    {
      "cell_type": "code",
      "metadata": {
        "id": "Aoj4LUtFWELN",
        "colab_type": "code",
        "colab": {}
      },
      "source": [
        "from keras.models import load_model\n",
        "new_model = load_model('medical_trial_model.h5')"
      ],
      "execution_count": 0,
      "outputs": []
    },
    {
      "cell_type": "code",
      "metadata": {
        "id": "IByopUzZWY3J",
        "colab_type": "code",
        "outputId": "fedeebd8-2c3a-4697-9dba-d7440abbdeab",
        "colab": {
          "base_uri": "https://localhost:8080/",
          "height": 255
        }
      },
      "source": [
        "new_model.summary()"
      ],
      "execution_count": 80,
      "outputs": [
        {
          "output_type": "stream",
          "text": [
            "Model: \"sequential_3\"\n",
            "_________________________________________________________________\n",
            "Layer (type)                 Output Shape              Param #   \n",
            "=================================================================\n",
            "dense_7 (Dense)              (None, 16)                32        \n",
            "_________________________________________________________________\n",
            "dense_8 (Dense)              (None, 32)                544       \n",
            "_________________________________________________________________\n",
            "dense_9 (Dense)              (None, 2)                 66        \n",
            "=================================================================\n",
            "Total params: 642\n",
            "Trainable params: 642\n",
            "Non-trainable params: 0\n",
            "_________________________________________________________________\n"
          ],
          "name": "stdout"
        }
      ]
    },
    {
      "cell_type": "code",
      "metadata": {
        "id": "JZ9RW772X3F1",
        "colab_type": "code",
        "colab": {
          "base_uri": "https://localhost:8080/",
          "height": 1000
        },
        "outputId": "a935adfb-39e8-4153-f7f6-779ef85049ef"
      },
      "source": [
        "new_model.get_weights()"
      ],
      "execution_count": 81,
      "outputs": [
        {
          "output_type": "execute_result",
          "data": {
            "text/plain": [
              "[array([[-0.5401617 ,  0.37126493,  0.72509444, -0.3109035 , -0.4677226 ,\n",
              "         -0.05000418,  0.37733468,  0.6399426 , -0.348753  , -0.57434666,\n",
              "         -0.37982494,  0.6084672 ,  0.42577147, -0.06402647,  0.0052969 ,\n",
              "         -0.1833323 ]], dtype=float32),\n",
              " array([ 0.        , -0.09558814, -0.1082458 ,  0.        ,  0.        ,\n",
              "         0.        , -0.1273098 , -0.1427159 ,  0.        ,  0.        ,\n",
              "         0.        , -0.10051664, -0.1159861 ,  0.        , -0.00558828,\n",
              "         0.        ], dtype=float32),\n",
              " array([[-0.06622845, -0.14780857, -0.10229772,  0.12341911, -0.23635396,\n",
              "          0.2777137 , -0.12391174,  0.31346068, -0.30685982,  0.20774183,\n",
              "         -0.0125365 ,  0.03532994,  0.13304418,  0.05261478, -0.06504953,\n",
              "          0.20747772, -0.02272743,  0.1755105 ,  0.3456985 ,  0.33658668,\n",
              "          0.26801094, -0.14203344, -0.0274618 ,  0.34784797,  0.3472639 ,\n",
              "         -0.18473487,  0.24058017,  0.29929158,  0.00411361,  0.3190616 ,\n",
              "          0.32881674, -0.07358646],\n",
              "        [ 0.18974882,  0.02673683,  0.15106401, -0.44359162,  0.02777511,\n",
              "         -0.26584598, -0.09403443,  0.34293222, -0.0136607 , -0.10495935,\n",
              "          0.46558842,  0.17874259,  0.08716395, -0.16806458,  0.46966797,\n",
              "          0.2864032 , -0.22819921,  0.16404314, -0.29455155, -0.19315892,\n",
              "          0.07088991, -0.15290885, -0.21500668,  0.15046889, -0.30947858,\n",
              "         -0.03275707, -0.0787126 , -0.22341318, -0.3025439 ,  0.3472356 ,\n",
              "         -0.22360134, -0.22270639],\n",
              "        [ 0.5153225 ,  0.37949044, -0.33054534,  0.16229779, -0.15540403,\n",
              "         -0.22063132,  0.28874406,  0.5234233 , -0.3140184 , -0.11045872,\n",
              "          0.10928956,  0.47493976,  0.01272272, -0.3192531 ,  0.11536158,\n",
              "          0.44978148,  0.07535958,  0.21848075,  0.08889244, -0.18119799,\n",
              "         -0.1572665 , -0.31054008,  0.07035531,  0.3261987 , -0.33178395,\n",
              "          0.25457773,  0.17308593, -0.06466168, -0.2181955 , -0.26110166,\n",
              "         -0.16646159, -0.1766704 ],\n",
              "        [-0.2598022 , -0.11750954, -0.29110464, -0.27823704,  0.02677613,\n",
              "          0.06648016,  0.03602082,  0.03916311,  0.2123839 , -0.08303022,\n",
              "         -0.1502048 ,  0.12827966, -0.13080983, -0.08294424,  0.08978045,\n",
              "         -0.1224677 ,  0.12306204,  0.31785128,  0.00711843,  0.15867361,\n",
              "         -0.315944  ,  0.19980869,  0.03251192,  0.28705588,  0.31413642,\n",
              "         -0.13741457, -0.1274749 , -0.17750879,  0.33817282, -0.3076536 ,\n",
              "         -0.2869546 , -0.21941775],\n",
              "        [-0.3041276 , -0.22330901,  0.03219885, -0.0143564 , -0.1076691 ,\n",
              "          0.14284748, -0.17761524,  0.12264952, -0.2471073 , -0.0630731 ,\n",
              "          0.04871696,  0.284193  , -0.14115661, -0.26432294,  0.29574332,\n",
              "          0.02377275,  0.12141395,  0.12585539,  0.14317083, -0.33810824,\n",
              "         -0.06540355,  0.04086542,  0.24234894,  0.010232  , -0.05278835,\n",
              "          0.03971547, -0.1413113 ,  0.2293128 ,  0.13022861,  0.31979695,\n",
              "         -0.31803608, -0.24183786],\n",
              "        [-0.00560755,  0.04481962,  0.10364896,  0.10673699, -0.2000136 ,\n",
              "          0.01321077, -0.03918654, -0.05403605,  0.30680147, -0.18270086,\n",
              "          0.01205188, -0.22732441,  0.23513296, -0.07928649, -0.12463219,\n",
              "         -0.0473932 ,  0.23864576, -0.10703588,  0.05266029,  0.16673192,\n",
              "          0.11167651, -0.09681475, -0.3172412 , -0.15512443,  0.2882199 ,\n",
              "          0.30204532,  0.23071477,  0.30063674,  0.06508619,  0.26563194,\n",
              "         -0.29519704, -0.14777772],\n",
              "        [ 0.51641667,  0.5665329 , -0.3118843 ,  0.11053809,  0.10536981,\n",
              "         -0.30864465,  0.3207515 , -0.08475108,  0.15057224,  0.03982556,\n",
              "          0.39802247,  0.4923926 , -0.1925052 ,  0.01308516,  0.0007065 ,\n",
              "          0.53426933, -0.5565821 ,  0.05626682,  0.17957811, -0.31867722,\n",
              "         -0.51994383,  0.30714902, -0.30659276,  0.54760057,  0.04772076,\n",
              "          0.52096224,  0.23069437, -0.23457131,  0.21957722,  0.33141485,\n",
              "          0.05500054,  0.18417421],\n",
              "        [ 0.04416431,  0.29432622, -0.13470681, -0.24611564, -0.24981904,\n",
              "          0.12809876,  0.39851734, -0.04096892, -0.14127871,  0.07153089,\n",
              "          0.00812896, -0.04778933, -0.32678992,  0.09760996,  0.12755406,\n",
              "          0.5073479 ,  0.03852595, -0.16144718, -0.2585893 , -0.2219099 ,\n",
              "         -0.11453331, -0.2848237 , -0.28893673,  0.4264485 , -0.27358025,\n",
              "          0.31294867, -0.24676718, -0.2674654 , -0.19656488, -0.19641477,\n",
              "         -0.23011151, -0.05048281],\n",
              "        [ 0.06788838, -0.31279325,  0.18988493,  0.17861757,  0.32737884,\n",
              "         -0.11473215, -0.34593636, -0.11386637,  0.30469838,  0.15899149,\n",
              "          0.01217809, -0.35309887,  0.12514243, -0.17755549, -0.27256417,\n",
              "         -0.0984917 ,  0.2689065 ,  0.09257048,  0.3305404 , -0.08390552,\n",
              "         -0.33502463,  0.14173049,  0.21948037, -0.22898214, -0.2735033 ,\n",
              "         -0.1777759 ,  0.13913324, -0.00950226, -0.29631534, -0.22504723,\n",
              "         -0.30530703,  0.04017386],\n",
              "        [ 0.19667116, -0.12093069,  0.1162383 , -0.22510025, -0.18369257,\n",
              "         -0.23051956, -0.32990462, -0.13268806,  0.04793909,  0.05305445,\n",
              "         -0.04646143,  0.3425502 , -0.24525985, -0.29479688,  0.16198155,\n",
              "         -0.22743872,  0.2989771 ,  0.01451477,  0.03086019,  0.2841635 ,\n",
              "          0.12930694, -0.32205012, -0.10080135,  0.13577253, -0.01220953,\n",
              "          0.31485918, -0.10969779, -0.17868544, -0.01500884,  0.3149902 ,\n",
              "         -0.02278104, -0.02151445],\n",
              "        [ 0.14203647, -0.07145956, -0.05689648, -0.28938997,  0.292217  ,\n",
              "          0.27507243, -0.03210831,  0.08141708,  0.02564088, -0.02192816,\n",
              "         -0.06837332, -0.3412068 ,  0.26305392, -0.30645403, -0.05639872,\n",
              "          0.347447  ,  0.12838873,  0.32762888, -0.3189774 , -0.27918604,\n",
              "          0.18907431,  0.22127953, -0.23392715, -0.20736182, -0.29809076,\n",
              "         -0.3462411 ,  0.11144444, -0.01262686, -0.18686286, -0.19250901,\n",
              "          0.19813523, -0.22093074],\n",
              "        [ 0.0816779 ,  0.3132508 ,  0.18568984, -0.08266578,  0.02688304,\n",
              "          0.14630583,  0.147417  ,  0.03080112,  0.25130433, -0.25773013,\n",
              "          0.0670767 ,  0.17740199,  0.08582482, -0.05522704,  0.3675899 ,\n",
              "         -0.1396111 ,  0.15035434, -0.299766  ,  0.21117523,  0.0810982 ,\n",
              "         -0.0947246 ,  0.14893499,  0.1439055 , -0.01429412, -0.27181843,\n",
              "          0.5353185 , -0.07699499, -0.0478515 , -0.22607434, -0.14572154,\n",
              "         -0.09716466, -0.1250931 ],\n",
              "        [ 0.44158494,  0.31817955, -0.33733493, -0.0105969 , -0.13159889,\n",
              "         -0.21335904,  0.3425756 ,  0.44340363,  0.340822  ,  0.3317794 ,\n",
              "          0.48131955,  0.48774514, -0.00765188, -0.11962249,  0.18680179,\n",
              "         -0.01392457, -0.45986322,  0.020292  , -0.18199952,  0.12400362,\n",
              "         -0.14470847,  0.32354727, -0.33105883,  0.5942344 ,  0.1934847 ,\n",
              "          0.34607273,  0.11065136,  0.27800575,  0.24231037,  0.10001194,\n",
              "         -0.12237978,  0.04731295],\n",
              "        [-0.2307749 , -0.21794279,  0.10678047, -0.10244262, -0.33192027,\n",
              "         -0.08651718, -0.28568685, -0.14303814, -0.0150331 ,  0.29813418,\n",
              "         -0.29710796, -0.01854032,  0.3492835 , -0.08539912,  0.09712335,\n",
              "         -0.05970591, -0.27562422,  0.31305096, -0.2980325 ,  0.22660515,\n",
              "          0.20800188,  0.29659143,  0.03564158, -0.1770321 ,  0.24000522,\n",
              "          0.04233053,  0.16295514, -0.00902903, -0.24354328,  0.2914311 ,\n",
              "         -0.27103734,  0.2283527 ],\n",
              "        [ 0.3428202 , -0.34114927,  0.32097742,  0.15351869, -0.19360879,\n",
              "         -0.13275802, -0.30219737,  0.19151917, -0.031944  ,  0.2640668 ,\n",
              "         -0.17507404,  0.2739347 ,  0.29325482, -0.27468836,  0.05742088,\n",
              "          0.3222415 ,  0.26121673,  0.1346267 , -0.16540432, -0.06171572,\n",
              "         -0.15695351,  0.08716515, -0.34465763, -0.25135836, -0.21428806,\n",
              "         -0.2552273 ,  0.12316168, -0.095586  , -0.07676712,  0.35236552,\n",
              "         -0.04601029, -0.20196003],\n",
              "        [-0.26817745,  0.17552361, -0.02495465, -0.12236528, -0.10203332,\n",
              "         -0.26135153, -0.20050225,  0.1036385 , -0.14149186,  0.1070326 ,\n",
              "          0.15961769, -0.06638187,  0.24946734, -0.28646386,  0.20161077,\n",
              "          0.16412345,  0.20010522, -0.05545539, -0.1877841 ,  0.28408393,\n",
              "          0.3155162 ,  0.32630047, -0.18767907,  0.21109065,  0.27535722,\n",
              "         -0.29828066, -0.24975505,  0.08196315,  0.31900993, -0.23231831,\n",
              "          0.18832508, -0.12421654]], dtype=float32),\n",
              " array([-0.09671417, -0.09862347,  0.        ,  0.21079788,  0.        ,\n",
              "        -0.00298398, -0.09382324, -0.08703948, -0.00294219, -0.00226863,\n",
              "        -0.061641  , -0.08783034,  0.12261063, -0.00206232, -0.08376162,\n",
              "        -0.09783702,  0.22478898,  0.18820867,  0.05837449,  0.        ,\n",
              "         0.3149449 ,  0.        ,  0.21866755, -0.1022579 ,  0.        ,\n",
              "        -0.11164595, -0.01484841,  0.        ,  0.        ,  0.        ,\n",
              "         0.        ,  0.        ], dtype=float32),\n",
              " array([[-0.07155707,  0.39698663],\n",
              "        [-0.39836568,  0.2950319 ],\n",
              "        [ 0.27497074,  0.02658588],\n",
              "        [ 0.46429488, -0.10512688],\n",
              "        [-0.08896151, -0.32605994],\n",
              "        [-0.268291  ,  0.14339735],\n",
              "        [-0.20977493,  0.3110652 ],\n",
              "        [-0.34450486,  0.46636352],\n",
              "        [ 0.24389425,  0.24236491],\n",
              "        [ 0.2822314 ,  0.3348375 ],\n",
              "        [-0.60899   ,  0.0658832 ],\n",
              "        [-0.15250252,  0.61146516],\n",
              "        [ 0.34832022, -0.34063056],\n",
              "        [-0.09814723,  0.01151438],\n",
              "        [-0.6244742 ,  0.10702628],\n",
              "        [-0.5363787 , -0.02750647],\n",
              "        [ 0.30072144, -0.28280777],\n",
              "        [ 0.37238783,  0.11416032],\n",
              "        [-0.03881214, -0.29825497],\n",
              "        [-0.24838097, -0.3003259 ],\n",
              "        [ 0.43619862, -0.50187594],\n",
              "        [-0.11624587,  0.32216027],\n",
              "        [ 0.5411553 , -0.58346057],\n",
              "        [-0.1947718 ,  0.26275405],\n",
              "        [ 0.23540547, -0.00148571],\n",
              "        [-0.34202003,  0.08446916],\n",
              "        [ 0.1089105 , -0.04101189],\n",
              "        [ 0.4062527 ,  0.1924018 ],\n",
              "        [-0.08594441,  0.31751332],\n",
              "        [-0.38784647,  0.2418249 ],\n",
              "        [-0.14628041, -0.41196218],\n",
              "        [-0.12690204, -0.08060381]], dtype=float32),\n",
              " array([ 0.18537645, -0.18537645], dtype=float32)]"
            ]
          },
          "metadata": {
            "tags": []
          },
          "execution_count": 81
        }
      ]
    },
    {
      "cell_type": "code",
      "metadata": {
        "id": "PrAk5B65X84G",
        "colab_type": "code",
        "outputId": "3a4c17de-b8b1-4e3a-ea0f-9d4647b047fe",
        "colab": {
          "base_uri": "https://localhost:8080/",
          "height": 34
        }
      },
      "source": [
        "new_model.optimizer"
      ],
      "execution_count": 82,
      "outputs": [
        {
          "output_type": "execute_result",
          "data": {
            "text/plain": [
              "<keras.optimizers.Adam at 0x7f16523975c0>"
            ]
          },
          "metadata": {
            "tags": []
          },
          "execution_count": 82
        }
      ]
    },
    {
      "cell_type": "markdown",
      "metadata": {
        "id": "kJ3RF9_0Y0Sm",
        "colab_type": "text"
      },
      "source": [
        "##**2. model.to_json()**\n",
        "\n",
        "\n",
        "\n"
      ]
    },
    {
      "cell_type": "code",
      "metadata": {
        "id": "BZ7uX0T8YHdy",
        "colab_type": "code",
        "colab": {}
      },
      "source": [
        "#save as JSON\n",
        "json_string = model.to_json()\n",
        "\n",
        "#save as YAML\n",
        "#yaml_string = model.to_yaml()"
      ],
      "execution_count": 0,
      "outputs": []
    },
    {
      "cell_type": "code",
      "metadata": {
        "id": "QM2XEw2CZy89",
        "colab_type": "code",
        "outputId": "79dd3a64-3936-4780-b64a-039da820da28",
        "colab": {
          "base_uri": "https://localhost:8080/",
          "height": 54
        }
      },
      "source": [
        "json_string"
      ],
      "execution_count": 85,
      "outputs": [
        {
          "output_type": "execute_result",
          "data": {
            "text/plain": [
              "'{\"class_name\": \"Sequential\", \"config\": {\"name\": \"sequential_3\", \"layers\": [{\"class_name\": \"Dense\", \"config\": {\"name\": \"dense_7\", \"trainable\": true, \"batch_input_shape\": [null, 1], \"dtype\": \"float32\", \"units\": 16, \"activation\": \"relu\", \"use_bias\": true, \"kernel_initializer\": {\"class_name\": \"VarianceScaling\", \"config\": {\"scale\": 1.0, \"mode\": \"fan_avg\", \"distribution\": \"uniform\", \"seed\": null}}, \"bias_initializer\": {\"class_name\": \"Zeros\", \"config\": {}}, \"kernel_regularizer\": null, \"bias_regularizer\": null, \"activity_regularizer\": null, \"kernel_constraint\": null, \"bias_constraint\": null}}, {\"class_name\": \"Dense\", \"config\": {\"name\": \"dense_8\", \"trainable\": true, \"dtype\": \"float32\", \"units\": 32, \"activation\": \"relu\", \"use_bias\": true, \"kernel_initializer\": {\"class_name\": \"VarianceScaling\", \"config\": {\"scale\": 1.0, \"mode\": \"fan_avg\", \"distribution\": \"uniform\", \"seed\": null}}, \"bias_initializer\": {\"class_name\": \"Zeros\", \"config\": {}}, \"kernel_regularizer\": null, \"bias_regularizer\": null, \"activity_regularizer\": null, \"kernel_constraint\": null, \"bias_constraint\": null}}, {\"class_name\": \"Dense\", \"config\": {\"name\": \"dense_9\", \"trainable\": true, \"dtype\": \"float32\", \"units\": 2, \"activation\": \"softmax\", \"use_bias\": true, \"kernel_initializer\": {\"class_name\": \"VarianceScaling\", \"config\": {\"scale\": 1.0, \"mode\": \"fan_avg\", \"distribution\": \"uniform\", \"seed\": null}}, \"bias_initializer\": {\"class_name\": \"Zeros\", \"config\": {}}, \"kernel_regularizer\": null, \"bias_regularizer\": null, \"activity_regularizer\": null, \"kernel_constraint\": null, \"bias_constraint\": null}}]}, \"keras_version\": \"2.2.5\", \"backend\": \"tensorflow\"}'"
            ]
          },
          "metadata": {
            "tags": []
          },
          "execution_count": 85
        }
      ]
    },
    {
      "cell_type": "code",
      "metadata": {
        "id": "wrC2XkLGZ2jf",
        "colab_type": "code",
        "colab": {}
      },
      "source": [
        "# model reconstruction from JSON:\n",
        "from keras.models import model_from_json\n",
        "model_architecture = model_from_json(json_string)\n",
        "\n",
        "# model reconstruction from YAML\n",
        "# from keras.models import model_from_yaml\n",
        "# model = model_from_yaml(yaml_string)"
      ],
      "execution_count": 0,
      "outputs": []
    },
    {
      "cell_type": "code",
      "metadata": {
        "id": "k79PffsPbNCv",
        "colab_type": "code",
        "outputId": "9dc66562-2d82-41f8-c177-d748a665c8e0",
        "colab": {
          "base_uri": "https://localhost:8080/",
          "height": 255
        }
      },
      "source": [
        "model_architecture.summary()"
      ],
      "execution_count": 87,
      "outputs": [
        {
          "output_type": "stream",
          "text": [
            "Model: \"sequential_3\"\n",
            "_________________________________________________________________\n",
            "Layer (type)                 Output Shape              Param #   \n",
            "=================================================================\n",
            "dense_7 (Dense)              (None, 16)                32        \n",
            "_________________________________________________________________\n",
            "dense_8 (Dense)              (None, 32)                544       \n",
            "_________________________________________________________________\n",
            "dense_9 (Dense)              (None, 2)                 66        \n",
            "=================================================================\n",
            "Total params: 642\n",
            "Trainable params: 642\n",
            "Non-trainable params: 0\n",
            "_________________________________________________________________\n"
          ],
          "name": "stdout"
        }
      ]
    },
    {
      "cell_type": "markdown",
      "metadata": {
        "id": "8R-i2nLZbkmR",
        "colab_type": "text"
      },
      "source": [
        "## **3. model.save_weights()**\n",
        "If you only need to save the weights of a model, you can use the following function save the weights only"
      ]
    },
    {
      "cell_type": "code",
      "metadata": {
        "id": "Y8ZuYbM4bXKm",
        "colab_type": "code",
        "colab": {}
      },
      "source": [
        "model.save_weights('my_model_weights.h5')"
      ],
      "execution_count": 0,
      "outputs": []
    },
    {
      "cell_type": "code",
      "metadata": {
        "id": "F7idpZN_cFDq",
        "colab_type": "code",
        "colab": {}
      },
      "source": [
        "model2 = Sequential([\n",
        "    Dense(16,input_shape=(1,),activation='relu'),\n",
        "    Dense(32,activation='relu'),\n",
        "    Dense(2,activation='softmax')\n",
        "])"
      ],
      "execution_count": 0,
      "outputs": []
    },
    {
      "cell_type": "code",
      "metadata": {
        "id": "dUSUtDJrcmyk",
        "colab_type": "code",
        "colab": {}
      },
      "source": [
        "model2.load_weights('my_model_weights.h5')"
      ],
      "execution_count": 0,
      "outputs": []
    },
    {
      "cell_type": "code",
      "metadata": {
        "id": "YhBUwagYcsMp",
        "colab_type": "code",
        "colab": {}
      },
      "source": [
        ""
      ],
      "execution_count": 0,
      "outputs": []
    }
  ]
}