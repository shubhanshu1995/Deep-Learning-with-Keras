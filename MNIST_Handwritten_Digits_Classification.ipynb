{
  "nbformat": 4,
  "nbformat_minor": 0,
  "metadata": {
    "colab": {
      "name": "MNIST Handwritten Digits Classification.ipynb",
      "provenance": [],
      "collapsed_sections": [],
      "authorship_tag": "ABX9TyOZyGLIRkA/mBh3rzKtKUty",
      "include_colab_link": true
    },
    "kernelspec": {
      "name": "python3",
      "display_name": "Python 3"
    }
  },
  "cells": [
    {
      "cell_type": "markdown",
      "metadata": {
        "id": "view-in-github",
        "colab_type": "text"
      },
      "source": [
        "<a href=\"https://colab.research.google.com/github/shubhanshu1995/Deep-Learning-with-Keras/blob/master/MNIST_Handwritten_Digits_Classification.ipynb\" target=\"_parent\"><img src=\"https://colab.research.google.com/assets/colab-badge.svg\" alt=\"Open In Colab\"/></a>"
      ]
    },
    {
      "cell_type": "markdown",
      "metadata": {
        "id": "wv44er2WdRB1",
        "colab_type": "text"
      },
      "source": [
        "# **MNIST Handwritten Digits Classification using Keras, Tensorflow & Python**"
      ]
    },
    {
      "cell_type": "code",
      "metadata": {
        "id": "qXzROuEKcb4o",
        "colab_type": "code",
        "colab": {}
      },
      "source": [
        "import tensorflow as tf\n",
        "from keras import datasets"
      ],
      "execution_count": 0,
      "outputs": []
    },
    {
      "cell_type": "code",
      "metadata": {
        "id": "u4TPWE9YexTM",
        "colab_type": "code",
        "colab": {}
      },
      "source": [
        "mnist = datasets.mnist  # 28x28 grayscale images of hand-written digits 0-9"
      ],
      "execution_count": 0,
      "outputs": []
    },
    {
      "cell_type": "code",
      "metadata": {
        "id": "iNcW0iONfK2-",
        "colab_type": "code",
        "colab": {
          "base_uri": "https://localhost:8080/",
          "height": 51
        },
        "outputId": "60980564-20fa-4e6f-f6d8-6e2b08d2002e"
      },
      "source": [
        "(X_train, y_train), (X_test, y_test) = mnist.load_data()"
      ],
      "execution_count": 4,
      "outputs": [
        {
          "output_type": "stream",
          "text": [
            "Downloading data from https://s3.amazonaws.com/img-datasets/mnist.npz\n",
            "11493376/11490434 [==============================] - 1s 0us/step\n"
          ],
          "name": "stdout"
        }
      ]
    },
    {
      "cell_type": "code",
      "metadata": {
        "id": "11h8dQi3fYCo",
        "colab_type": "code",
        "colab": {
          "base_uri": "https://localhost:8080/",
          "height": 153
        },
        "outputId": "bcc53625-8fda-487f-d186-9b726bb9c9bd"
      },
      "source": [
        "m_train = X_train.shape[0]\n",
        "m_test = X_test.shape[0]\n",
        "num_px = X_test.shape[1]\n",
        "\n",
        "print (\"Number of training examples: m_train = \" + str(m_train))\n",
        "print (\"Number of testing examples: m_test = \" + str(m_test))\n",
        "print (\"Height/Width of each image: num_px = \" + str(num_px))\n",
        "print (\"Each image is of size: (\" + str(num_px) + \", \" + str(num_px) + \")\")\n",
        "print (\"X_train shape: \" + str(X_train.shape))\n",
        "print (\"y_train shape: \" + str(y_train.shape))\n",
        "print (\"X_test shape: \" + str(X_test.shape))\n",
        "print (\"y_test shape: \" + str(y_test.shape))"
      ],
      "execution_count": 16,
      "outputs": [
        {
          "output_type": "stream",
          "text": [
            "Number of training examples: m_train = 60000\n",
            "Number of testing examples: m_test = 10000\n",
            "Height/Width of each image: num_px = 28\n",
            "Each image is of size: (28, 28)\n",
            "X_train shape: (60000, 28, 28)\n",
            "y_train shape: (60000,)\n",
            "X_test shape: (10000, 28, 28)\n",
            "y_test shape: (10000,)\n"
          ],
          "name": "stdout"
        }
      ]
    },
    {
      "cell_type": "code",
      "metadata": {
        "id": "dwICy1w-gDtL",
        "colab_type": "code",
        "colab": {
          "base_uri": "https://localhost:8080/",
          "height": 282
        },
        "outputId": "72eecd7e-ccd4-4b01-93e3-806ddc8f6c35"
      },
      "source": [
        "import matplotlib.pyplot as plt\n",
        "\n",
        "plt.imshow(X_train[0], cmap = plt.cm.binary)"
      ],
      "execution_count": 27,
      "outputs": [
        {
          "output_type": "execute_result",
          "data": {
            "text/plain": [
              "<matplotlib.image.AxesImage at 0x7f7787aa4f98>"
            ]
          },
          "metadata": {
            "tags": []
          },
          "execution_count": 27
        },
        {
          "output_type": "display_data",
          "data": {
            "image/png": "[encoded data removed]",
            "text/plain": [
              "<Figure size 432x288 with 1 Axes>"
            ]
          },
          "metadata": {
            "tags": []
          }
        }
      ]
    },
    {
      "cell_type": "markdown",
      "metadata": {
        "id": "CrKfi-3woizt",
        "colab_type": "text"
      },
      "source": [
        "###**One common preprocessing step in machine learning is to center and normalize your dataset, meaning that you substract the minimum of the whole numpy array from each example, and then divide each example by the difference of maximum & minimum of the whole numpy array. So for picture datasets, we'll just divide every row of the dataset by 255 (the maximum value of a pixel channel).**\n",
        "\n",
        "###**Normalization rescales the values into a range of [0,1]**\n",
        "\n",
        "###**Let's normalize our dataset using Keras utility.**"
      ]
    },
    {
      "cell_type": "code",
      "metadata": {
        "id": "giRu6psam7RU",
        "colab_type": "code",
        "colab": {}
      },
      "source": [
        "X_train = tf.keras.utils.normalize(X_train,axis=1)\n",
        "X_test = tf.keras.utils.normalize(X_test,axis=1)"
      ],
      "execution_count": 0,
      "outputs": []
    },
    {
      "cell_type": "markdown",
      "metadata": {
        "id": "85P24yO7yxJ9",
        "colab_type": "text"
      },
      "source": [
        "# **Model Architecture**"
      ]
    },
    {
      "cell_type": "code",
      "metadata": {
        "id": "2JgUJKjxpg6F",
        "colab_type": "code",
        "colab": {}
      },
      "source": [
        "model = tf.keras.models.Sequential()\n",
        "model.add(tf.keras.layers.Flatten(input_shape=(28,28)))\n",
        "model.add(tf.keras.layers.Dense(128, activation=tf.nn.relu))\n",
        "model.add(tf.keras.layers.Dense(128, activation=tf.nn.relu))\n",
        "model.add(tf.keras.layers.Dense(10, activation=tf.nn.softmax))\n",
        "\n",
        "model.compile(optimizer='adam',\n",
        "              loss='sparse_categorical_crossentropy',\n",
        "              metrics=['accuracy'])"
      ],
      "execution_count": 0,
      "outputs": []
    },
    {
      "cell_type": "markdown",
      "metadata": {
        "id": "JUG3hPe4zC20",
        "colab_type": "text"
      },
      "source": [
        "# **Training**"
      ]
    },
    {
      "cell_type": "code",
      "metadata": {
        "id": "IgvoiVM1wZKp",
        "colab_type": "code",
        "colab": {
          "base_uri": "https://localhost:8080/",
          "height": 391
        },
        "outputId": "f350ec81-e994-4fd1-c8cb-d7f28b97e588"
      },
      "source": [
        "model.fit(X_train, y_train, epochs=10)"
      ],
      "execution_count": 54,
      "outputs": [
        {
          "output_type": "stream",
          "text": [
            "Train on 60000 samples\n",
            "Epoch 1/10\n",
            "60000/60000 [==============================] - 6s 95us/sample - loss: 0.2597 - acc: 0.9235\n",
            "Epoch 2/10\n",
            "60000/60000 [==============================] - 5s 90us/sample - loss: 0.1044 - acc: 0.9674\n",
            "Epoch 3/10\n",
            "60000/60000 [==============================] - 5s 91us/sample - loss: 0.0705 - acc: 0.9768\n",
            "Epoch 4/10\n",
            "60000/60000 [==============================] - 5s 90us/sample - loss: 0.0515 - acc: 0.9832\n",
            "Epoch 5/10\n",
            "60000/60000 [==============================] - 6s 92us/sample - loss: 0.0414 - acc: 0.9866\n",
            "Epoch 6/10\n",
            "60000/60000 [==============================] - 5s 90us/sample - loss: 0.0313 - acc: 0.9894\n",
            "Epoch 7/10\n",
            "60000/60000 [==============================] - 5s 91us/sample - loss: 0.0257 - acc: 0.9912\n",
            "Epoch 8/10\n",
            "60000/60000 [==============================] - 6s 93us/sample - loss: 0.0201 - acc: 0.9930\n",
            "Epoch 9/10\n",
            "60000/60000 [==============================] - 5s 88us/sample - loss: 0.0185 - acc: 0.9935\n",
            "Epoch 10/10\n",
            "60000/60000 [==============================] - 5s 85us/sample - loss: 0.0153 - acc: 0.9944\n"
          ],
          "name": "stdout"
        },
        {
          "output_type": "execute_result",
          "data": {
            "text/plain": [
              "<tensorflow.python.keras.callbacks.History at 0x7f777e414c50>"
            ]
          },
          "metadata": {
            "tags": []
          },
          "execution_count": 54
        }
      ]
    },
    {
      "cell_type": "markdown",
      "metadata": {
        "id": "zic1VBy60m1I",
        "colab_type": "text"
      },
      "source": [
        "# **Validation Loss & Validation Accuracy**"
      ]
    },
    {
      "cell_type": "code",
      "metadata": {
        "id": "POx6EMKnzTsd",
        "colab_type": "code",
        "colab": {
          "base_uri": "https://localhost:8080/",
          "height": 68
        },
        "outputId": "c638eef5-188b-4318-b5ca-01f08ceb82e4"
      },
      "source": [
        "val_loss, val_acc = model.evaluate(X_test, y_test)\n",
        "print(\"Validation Loss: {}\\nValidation Accuracy: {}\".format(val_loss, val_acc))"
      ],
      "execution_count": 56,
      "outputs": [
        {
          "output_type": "stream",
          "text": [
            "10000/10000 [==============================] - 0s 38us/sample - loss: 0.1170 - acc: 0.9719\n",
            "Validation Loss: 0.11700121415155372\n",
            "Validation Accuracy: 0.9718999862670898\n"
          ],
          "name": "stdout"
        }
      ]
    },
    {
      "cell_type": "markdown",
      "metadata": {
        "id": "Jx6rsSHk1xBV",
        "colab_type": "text"
      },
      "source": [
        "# **Saving a model**"
      ]
    },
    {
      "cell_type": "code",
      "metadata": {
        "id": "0fIkoN2h1Qc5",
        "colab_type": "code",
        "colab": {}
      },
      "source": [
        "model.save(\"Awesome_Digits_Reader.model\")"
      ],
      "execution_count": 0,
      "outputs": []
    },
    {
      "cell_type": "markdown",
      "metadata": {
        "id": "8PyWJhC12HHs",
        "colab_type": "text"
      },
      "source": [
        "# **Loading a saved model**"
      ]
    },
    {
      "cell_type": "code",
      "metadata": {
        "id": "B6L-seik2DHS",
        "colab_type": "code",
        "colab": {}
      },
      "source": [
        "new_model = tf.keras.models.load_model(\"Awesome_Digits_Reader.model\")"
      ],
      "execution_count": 0,
      "outputs": []
    },
    {
      "cell_type": "markdown",
      "metadata": {
        "id": "kK-3Uduq2gp7",
        "colab_type": "text"
      },
      "source": [
        "# **Prediction on the test set**"
      ]
    },
    {
      "cell_type": "code",
      "metadata": {
        "id": "6zq8c7yx2Wph",
        "colab_type": "code",
        "colab": {}
      },
      "source": [
        "predictions = new_model.predict([X_test])"
      ],
      "execution_count": 0,
      "outputs": []
    },
    {
      "cell_type": "code",
      "metadata": {
        "id": "HKl8Q7GS2sgD",
        "colab_type": "code",
        "colab": {
          "base_uri": "https://localhost:8080/",
          "height": 34
        },
        "outputId": "197e631a-6151-4ca0-c2ea-56bb7f3b6ff0"
      },
      "source": [
        "print(predictions.shape)"
      ],
      "execution_count": 61,
      "outputs": [
        {
          "output_type": "stream",
          "text": [
            "(10000, 10)\n"
          ],
          "name": "stdout"
        }
      ]
    },
    {
      "cell_type": "code",
      "metadata": {
        "id": "Xxj5Wdr6477o",
        "colab_type": "code",
        "colab": {
          "base_uri": "https://localhost:8080/",
          "height": 238
        },
        "outputId": "a8ea0b18-491c-4931-e613-bc8f26bb389b"
      },
      "source": [
        "print(predictions)"
      ],
      "execution_count": 62,
      "outputs": [
        {
          "output_type": "stream",
          "text": [
            "[[9.97173698e-13 6.08796402e-10 4.52770432e-10 ... 9.99990940e-01\n",
            "  1.19643895e-09 1.02946540e-08]\n",
            " [7.20599714e-17 4.58286920e-08 1.00000000e+00 ... 1.21810832e-13\n",
            "  1.99163320e-12 2.35969501e-22]\n",
            " [7.25714356e-13 9.99994397e-01 6.02510255e-08 ... 5.49036758e-06\n",
            "  5.43972938e-08 1.29995225e-11]\n",
            " ...\n",
            " [8.49932917e-14 8.59324167e-09 1.39485388e-14 ... 2.14296776e-07\n",
            "  3.73080322e-09 1.10020505e-06]\n",
            " [2.47148569e-12 4.48864427e-12 1.25481578e-14 ... 1.90030075e-11\n",
            "  1.49320374e-06 6.80065216e-13]\n",
            " [1.78236833e-13 4.74268801e-12 1.18529437e-14 ... 5.56860212e-15\n",
            "  1.48006685e-09 1.34926532e-12]]\n"
          ],
          "name": "stdout"
        }
      ]
    },
    {
      "cell_type": "code",
      "metadata": {
        "id": "t84XakwX4l__",
        "colab_type": "code",
        "colab": {
          "base_uri": "https://localhost:8080/",
          "height": 34
        },
        "outputId": "1e40086a-2345-4661-e67e-79357ec8f5cb"
      },
      "source": [
        "import numpy as np\n",
        "\n",
        "print(np.argmax(predictions[4])) "
      ],
      "execution_count": 69,
      "outputs": [
        {
          "output_type": "stream",
          "text": [
            "4\n"
          ],
          "name": "stdout"
        }
      ]
    },
    {
      "cell_type": "code",
      "metadata": {
        "id": "emuxh1eh5Su9",
        "colab_type": "code",
        "colab": {
          "base_uri": "https://localhost:8080/",
          "height": 265
        },
        "outputId": "eebc2f47-ffbe-44a2-bf25-53ec8882ad86"
      },
      "source": [
        "plt.imshow(X_test[4])\n",
        "plt.show()"
      ],
      "execution_count": 70,
      "outputs": [
        {
          "output_type": "display_data",
          "data": {
            "image/png": "[encoded data removed]",
            "text/plain": [
              "<Figure size 432x288 with 1 Axes>"
            ]
          },
          "metadata": {
            "tags": []
          }
        }
      ]
    },
    {
      "cell_type": "code",
      "metadata": {
        "id": "JPQ6k4rn56kc",
        "colab_type": "code",
        "colab": {}
      },
      "source": [
        ""
      ],
      "execution_count": 0,
      "outputs": []
    }
  ]
}