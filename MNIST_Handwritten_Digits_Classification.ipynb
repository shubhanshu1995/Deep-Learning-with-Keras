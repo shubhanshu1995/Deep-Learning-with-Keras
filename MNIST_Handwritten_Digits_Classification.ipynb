{
  "nbformat": 4,
  "nbformat_minor": 0,
  "metadata": {
    "colab": {
      "name": "MNIST Handwritten Digits Classification.ipynb",
      "provenance": [],
      "collapsed_sections": [],
      "include_colab_link": true
    },
    "kernelspec": {
      "name": "python3",
      "display_name": "Python 3"
    }
  },
  "cells": [
    {
      "cell_type": "markdown",
      "metadata": {
        "id": "view-in-github",
        "colab_type": "text"
      },
      "source": [
        "<a href=\"https://colab.research.google.com/github/shubhanshu1995/Deep-Learning-with-Keras/blob/master/MNIST_Handwritten_Digits_Classification.ipynb\" target=\"_parent\"><img src=\"https://colab.research.google.com/assets/colab-badge.svg\" alt=\"Open In Colab\"/></a>"
      ]
    },
    {
      "cell_type": "markdown",
      "metadata": {
        "id": "wv44er2WdRB1",
        "colab_type": "text"
      },
      "source": [
        "# **MNIST Handwritten Digits Classification using Keras, Tensorflow & Python**"
      ]
    },
    {
      "cell_type": "code",
      "metadata": {
        "id": "qXzROuEKcb4o",
        "colab_type": "code",
        "colab": {}
      },
      "source": [
        "import tensorflow as tf\n",
        "from keras import datasets"
      ],
      "execution_count": 0,
      "outputs": []
    },
    {
      "cell_type": "code",
      "metadata": {
        "id": "u4TPWE9YexTM",
        "colab_type": "code",
        "colab": {}
      },
      "source": [
        "mnist = datasets.mnist  # 28x28 grayscale images of hand-written digits 0-9"
      ],
      "execution_count": 0,
      "outputs": []
    },
    {
      "cell_type": "code",
      "metadata": {
        "id": "iNcW0iONfK2-",
        "colab_type": "code",
        "outputId": "f851d5ab-53a4-4957-ce4f-0a778cbaa27e",
        "colab": {
          "base_uri": "https://localhost:8080/",
          "height": 51
        }
      },
      "source": [
        "(X_train, y_train), (X_test, y_test) = mnist.load_data()"
      ],
      "execution_count": 6,
      "outputs": [
        {
          "output_type": "stream",
          "text": [
            "Downloading data from https://s3.amazonaws.com/img-datasets/mnist.npz\n",
            "11493376/11490434 [==============================] - 0s 0us/step\n"
          ],
          "name": "stdout"
        }
      ]
    },
    {
      "cell_type": "code",
      "metadata": {
        "id": "11h8dQi3fYCo",
        "colab_type": "code",
        "outputId": "891f6689-d604-4687-acb7-163c23427786",
        "colab": {
          "base_uri": "https://localhost:8080/",
          "height": 153
        }
      },
      "source": [
        "m_train = X_train.shape[0]\n",
        "m_test = X_test.shape[0]\n",
        "num_px = X_test.shape[1]\n",
        "\n",
        "print (\"Number of training examples: m_train = \" + str(m_train))\n",
        "print (\"Number of testing examples: m_test = \" + str(m_test))\n",
        "print (\"Height/Width of each image: num_px = \" + str(num_px))\n",
        "print (\"Each image is of size: (\" + str(num_px) + \", \" + str(num_px) + \")\")\n",
        "print (\"X_train shape: \" + str(X_train.shape))\n",
        "print (\"y_train shape: \" + str(y_train.shape))\n",
        "print (\"X_test shape: \" + str(X_test.shape))\n",
        "print (\"y_test shape: \" + str(y_test.shape))"
      ],
      "execution_count": 7,
      "outputs": [
        {
          "output_type": "stream",
          "text": [
            "Number of training examples: m_train = 60000\n",
            "Number of testing examples: m_test = 10000\n",
            "Height/Width of each image: num_px = 28\n",
            "Each image is of size: (28, 28)\n",
            "X_train shape: (60000, 28, 28)\n",
            "y_train shape: (60000,)\n",
            "X_test shape: (10000, 28, 28)\n",
            "y_test shape: (10000,)\n"
          ],
          "name": "stdout"
        }
      ]
    },
    {
      "cell_type": "code",
      "metadata": {
        "id": "dwICy1w-gDtL",
        "colab_type": "code",
        "outputId": "a57ca1e2-0d46-43d5-9fae-fd2544fd2996",
        "colab": {
          "base_uri": "https://localhost:8080/",
          "height": 282
        }
      },
      "source": [
        "import matplotlib.pyplot as plt\n",
        "\n",
        "plt.imshow(X_train[0], cmap = plt.cm.binary)"
      ],
      "execution_count": 11,
      "outputs": [
        {
          "output_type": "execute_result",
          "data": {
            "text/plain": [
              "<matplotlib.image.AxesImage at 0x7fbe80f9ff98>"
            ]
          },
          "metadata": {
            "tags": []
          },
          "execution_count": 11
        },
        {
          "output_type": "display_data",
          "data": {
            "image/png": "[encoded data removed]",
            "text/plain": [
              "<Figure size 432x288 with 1 Axes>"
            ]
          },
          "metadata": {
            "tags": []
          }
        }
      ]
    },
    {
      "cell_type": "markdown",
      "metadata": {
        "id": "CrKfi-3woizt",
        "colab_type": "text"
      },
      "source": [
        "###**One common preprocessing step in machine learning is to center and normalize your dataset, meaning that you substract the minimum of the whole numpy array from each example, and then divide each example by the difference of maximum & minimum of the whole numpy array. So for picture datasets, we'll just divide every row of the dataset by 255 (the maximum value of a pixel channel).**\n",
        "\n",
        "###**Normalization rescales the values into a range of [0,1]**\n",
        "\n",
        "###**Let's normalize our dataset using Keras utility.**"
      ]
    },
    {
      "cell_type": "code",
      "metadata": {
        "id": "giRu6psam7RU",
        "colab_type": "code",
        "colab": {}
      },
      "source": [
        "X_train = tf.keras.utils.normalize(X_train,axis=1)\n",
        "X_test = tf.keras.utils.normalize(X_test,axis=1)"
      ],
      "execution_count": 0,
      "outputs": []
    },
    {
      "cell_type": "markdown",
      "metadata": {
        "id": "85P24yO7yxJ9",
        "colab_type": "text"
      },
      "source": [
        "# **Model Architecture**"
      ]
    },
    {
      "cell_type": "code",
      "metadata": {
        "id": "2JgUJKjxpg6F",
        "colab_type": "code",
        "colab": {
          "base_uri": "https://localhost:8080/",
          "height": 289
        },
        "outputId": "81e93814-e313-4ef2-c505-f8ad35341038"
      },
      "source": [
        "model = tf.keras.models.Sequential()\n",
        "model.add(tf.keras.layers.Flatten(input_shape=(28,28)))\n",
        "model.add(tf.keras.layers.Dense(128, activation=tf.nn.relu))\n",
        "model.add(tf.keras.layers.Dense(128, activation=tf.nn.relu))\n",
        "model.add(tf.keras.layers.Dense(10, activation=tf.nn.softmax))\n",
        "\n",
        "model.compile(optimizer='adam',\n",
        "              loss='sparse_categorical_crossentropy',\n",
        "              metrics=['accuracy'])\n",
        "model.summary()"
      ],
      "execution_count": 14,
      "outputs": [
        {
          "output_type": "stream",
          "text": [
            "Model: \"sequential_1\"\n",
            "_________________________________________________________________\n",
            "Layer (type)                 Output Shape              Param #   \n",
            "=================================================================\n",
            "flatten_1 (Flatten)          (None, 784)               0         \n",
            "_________________________________________________________________\n",
            "dense_3 (Dense)              (None, 128)               100480    \n",
            "_________________________________________________________________\n",
            "dense_4 (Dense)              (None, 128)               16512     \n",
            "_________________________________________________________________\n",
            "dense_5 (Dense)              (None, 10)                1290      \n",
            "=================================================================\n",
            "Total params: 118,282\n",
            "Trainable params: 118,282\n",
            "Non-trainable params: 0\n",
            "_________________________________________________________________\n"
          ],
          "name": "stdout"
        }
      ]
    },
    {
      "cell_type": "markdown",
      "metadata": {
        "id": "JUG3hPe4zC20",
        "colab_type": "text"
      },
      "source": [
        "# **Training**"
      ]
    },
    {
      "cell_type": "code",
      "metadata": {
        "id": "IgvoiVM1wZKp",
        "colab_type": "code",
        "outputId": "44229459-b525-49b0-effe-5d6af1aeae9b",
        "colab": {
          "base_uri": "https://localhost:8080/",
          "height": 391
        }
      },
      "source": [
        "model.fit(X_train, y_train, epochs=10)"
      ],
      "execution_count": 15,
      "outputs": [
        {
          "output_type": "stream",
          "text": [
            "Train on 60000 samples\n",
            "Epoch 1/10\n",
            "60000/60000 [==============================] - 5s 79us/sample - loss: 0.2657 - acc: 0.9223\n",
            "Epoch 2/10\n",
            "60000/60000 [==============================] - 5s 76us/sample - loss: 0.1086 - acc: 0.9657\n",
            "Epoch 3/10\n",
            "60000/60000 [==============================] - 5s 77us/sample - loss: 0.0747 - acc: 0.9761\n",
            "Epoch 4/10\n",
            "60000/60000 [==============================] - 5s 78us/sample - loss: 0.0554 - acc: 0.9821\n",
            "Epoch 5/10\n",
            "60000/60000 [==============================] - 5s 78us/sample - loss: 0.0419 - acc: 0.9865\n",
            "Epoch 6/10\n",
            "60000/60000 [==============================] - 5s 77us/sample - loss: 0.0313 - acc: 0.9899\n",
            "Epoch 7/10\n",
            "60000/60000 [==============================] - 5s 77us/sample - loss: 0.0263 - acc: 0.9910\n",
            "Epoch 8/10\n",
            "60000/60000 [==============================] - 5s 76us/sample - loss: 0.0215 - acc: 0.9927\n",
            "Epoch 9/10\n",
            "60000/60000 [==============================] - 5s 75us/sample - loss: 0.0191 - acc: 0.9934\n",
            "Epoch 10/10\n",
            "60000/60000 [==============================] - 4s 75us/sample - loss: 0.0145 - acc: 0.9949\n"
          ],
          "name": "stdout"
        },
        {
          "output_type": "execute_result",
          "data": {
            "text/plain": [
              "<tensorflow.python.keras.callbacks.History at 0x7fbe8067afd0>"
            ]
          },
          "metadata": {
            "tags": []
          },
          "execution_count": 15
        }
      ]
    },
    {
      "cell_type": "markdown",
      "metadata": {
        "id": "zic1VBy60m1I",
        "colab_type": "text"
      },
      "source": [
        "# **Validation Loss & Validation Accuracy**"
      ]
    },
    {
      "cell_type": "code",
      "metadata": {
        "id": "POx6EMKnzTsd",
        "colab_type": "code",
        "outputId": "6bb766ac-f98c-4cf9-dd79-20fbc0e65f02",
        "colab": {
          "base_uri": "https://localhost:8080/",
          "height": 68
        }
      },
      "source": [
        "val_loss, val_acc = model.evaluate(X_test, y_test)\n",
        "print(\"Validation Loss: {}\\nValidation Accuracy: {}\".format(val_loss, val_acc))"
      ],
      "execution_count": 16,
      "outputs": [
        {
          "output_type": "stream",
          "text": [
            "10000/10000 [==============================] - 0s 34us/sample - loss: 0.1083 - acc: 0.9743\n",
            "Validation Loss: 0.1083435316722811\n",
            "Validation Accuracy: 0.9743000268936157\n"
          ],
          "name": "stdout"
        }
      ]
    },
    {
      "cell_type": "markdown",
      "metadata": {
        "id": "Jx6rsSHk1xBV",
        "colab_type": "text"
      },
      "source": [
        "# **Saving a model**"
      ]
    },
    {
      "cell_type": "code",
      "metadata": {
        "id": "0fIkoN2h1Qc5",
        "colab_type": "code",
        "colab": {}
      },
      "source": [
        "model.save(\"Awesome_Digits_Reader.h5\")"
      ],
      "execution_count": 0,
      "outputs": []
    },
    {
      "cell_type": "markdown",
      "metadata": {
        "id": "8PyWJhC12HHs",
        "colab_type": "text"
      },
      "source": [
        "# **Loading a saved model**"
      ]
    },
    {
      "cell_type": "code",
      "metadata": {
        "id": "B6L-seik2DHS",
        "colab_type": "code",
        "colab": {}
      },
      "source": [
        "new_model = tf.keras.models.load_model(\"Awesome_Digits_Reader.h5\")"
      ],
      "execution_count": 0,
      "outputs": []
    },
    {
      "cell_type": "markdown",
      "metadata": {
        "id": "kK-3Uduq2gp7",
        "colab_type": "text"
      },
      "source": [
        "# **Prediction on the test set**"
      ]
    },
    {
      "cell_type": "code",
      "metadata": {
        "id": "6zq8c7yx2Wph",
        "colab_type": "code",
        "colab": {}
      },
      "source": [
        "predictions = new_model.predict([X_test])"
      ],
      "execution_count": 0,
      "outputs": []
    },
    {
      "cell_type": "code",
      "metadata": {
        "id": "HKl8Q7GS2sgD",
        "colab_type": "code",
        "outputId": "47d07d3b-7fb0-45b0-f44e-ff59c405e44d",
        "colab": {
          "base_uri": "https://localhost:8080/",
          "height": 34
        }
      },
      "source": [
        "print(predictions.shape)"
      ],
      "execution_count": 21,
      "outputs": [
        {
          "output_type": "stream",
          "text": [
            "(10000, 10)\n"
          ],
          "name": "stdout"
        }
      ]
    },
    {
      "cell_type": "code",
      "metadata": {
        "id": "Xxj5Wdr6477o",
        "colab_type": "code",
        "outputId": "ee3a0060-b558-4214-e241-6d6ac2ecd008",
        "colab": {
          "base_uri": "https://localhost:8080/",
          "height": 238
        }
      },
      "source": [
        "print(predictions)"
      ],
      "execution_count": 22,
      "outputs": [
        {
          "output_type": "stream",
          "text": [
            "[[2.8216751e-15 2.5428291e-11 1.8666898e-11 ... 1.0000000e+00\n",
            "  3.6331039e-14 3.7811503e-12]\n",
            " [8.5710920e-16 7.3242490e-10 1.0000000e+00 ... 1.7214815e-17\n",
            "  1.6973264e-12 8.4707940e-21]\n",
            " [2.3152339e-12 9.9999344e-01 3.6820267e-09 ... 1.4385361e-07\n",
            "  6.3251086e-06 3.7480654e-09]\n",
            " ...\n",
            " [5.8262190e-13 3.3922987e-08 7.3860695e-11 ... 3.1661100e-06\n",
            "  2.1095806e-10 8.3925688e-06]\n",
            " [9.6050377e-15 9.9921944e-15 6.6208364e-14 ... 5.5004807e-13\n",
            "  3.2889561e-06 8.4408383e-12]\n",
            " [3.3884619e-13 2.0650001e-11 3.8852539e-13 ... 1.3400155e-18\n",
            "  1.7181875e-10 1.7045214e-13]]\n"
          ],
          "name": "stdout"
        }
      ]
    },
    {
      "cell_type": "code",
      "metadata": {
        "id": "t84XakwX4l__",
        "colab_type": "code",
        "outputId": "20fac44a-fd67-4a41-c915-9666463e409c",
        "colab": {
          "base_uri": "https://localhost:8080/",
          "height": 34
        }
      },
      "source": [
        "import numpy as np\n",
        "\n",
        "print(np.argmax(predictions[4])) "
      ],
      "execution_count": 23,
      "outputs": [
        {
          "output_type": "stream",
          "text": [
            "4\n"
          ],
          "name": "stdout"
        }
      ]
    },
    {
      "cell_type": "code",
      "metadata": {
        "id": "emuxh1eh5Su9",
        "colab_type": "code",
        "outputId": "64ac6455-aa19-418c-a946-d5a0fa8d32f8",
        "colab": {
          "base_uri": "https://localhost:8080/",
          "height": 265
        }
      },
      "source": [
        "plt.imshow(X_test[4])\n",
        "plt.show()"
      ],
      "execution_count": 24,
      "outputs": [
        {
          "output_type": "display_data",
          "data": {
            "image/png": "[encoded data removed]",
            "text/plain": [
              "<Figure size 432x288 with 1 Axes>"
            ]
          },
          "metadata": {
            "tags": []
          }
        }
      ]
    },
    {
      "cell_type": "code",
      "metadata": {
        "id": "JPQ6k4rn56kc",
        "colab_type": "code",
        "colab": {}
      },
      "source": [
        ""
      ],
      "execution_count": 0,
      "outputs": []
    }
  ]
}